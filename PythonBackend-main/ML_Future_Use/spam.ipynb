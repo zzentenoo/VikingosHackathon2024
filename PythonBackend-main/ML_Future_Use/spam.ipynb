{
 "cells": [
  {
   "cell_type": "code",
   "execution_count": 4,
   "metadata": {},
   "outputs": [
    {
     "name": "stdout",
     "output_type": "stream",
     "text": [
      "True positive:  961\n",
      "False positive:  3\n",
      "True negative:  139\n",
      "False negative:  12 \n",
      "\n",
      "              precision    recall  f1-score   support\n",
      "\n",
      "         ham       0.99      1.00      0.99       964\n",
      "        spam       0.98      0.92      0.95       151\n",
      "\n",
      "    accuracy                           0.99      1115\n",
      "   macro avg       0.98      0.96      0.97      1115\n",
      "weighted avg       0.99      0.99      0.99      1115\n",
      "\n",
      "Accuracy: 0.9865\n",
      "Precision: 0.9789\n",
      "Recall: 0.9205\n",
      "F1 Score: 0.9488\n"
     ]
    }
   ],
   "source": [
    "import pandas as pd\n",
    "from sklearn.model_selection import train_test_split\n",
    "from sklearn.feature_extraction.text import CountVectorizer\n",
    "from sklearn.naive_bayes import MultinomialNB\n",
    "from sklearn.metrics import accuracy_score, precision_score, confusion_matrix, classification_report, recall_score, f1_score\n",
    "\n",
    "# Load the dataset .txt file\n",
    "df = pd.read_csv('SMSSPamCollection', sep='\\t', names=[\"Label\", \"SMS\"])\n",
    "\n",
    "# Split the data into training and test sets\n",
    "X_train, X_test, y_train, y_test = train_test_split(df['SMS'], df['Label'], test_size=0.2, random_state=69)\n",
    "\n",
    "# Vectorize the text data\n",
    "vectorizer = CountVectorizer()\n",
    "X_train_transformed = vectorizer.fit_transform(X_train)\n",
    "X_test_transformed = vectorizer.transform(X_test)\n",
    "\n",
    "# Train a Naive Bayes classifier\n",
    "classifier = MultinomialNB()\n",
    "classifier.fit(X_train_transformed, y_train)\n",
    "\n",
    "# Predicting the Test set results\n",
    "y_pred = classifier.predict(X_test_transformed)\n",
    "\n",
    "print('True positive: ', confusion_matrix(y_test, y_pred)[0][0])\n",
    "print('False positive: ', confusion_matrix(y_test, y_pred)[0][1])\n",
    "print('True negative: ', confusion_matrix(y_test, y_pred)[1][1])\n",
    "print('False negative: ', confusion_matrix(y_test, y_pred)[1][0], '\\n')\n",
    "print(classification_report(y_test, y_pred))\n",
    "print(\"Accuracy:\", round(accuracy_score(y_test, y_pred), 4))\n",
    "print('Precision:', round(precision_score(y_test, y_pred, pos_label='spam'), 4))\n",
    "print('Recall:', round(recall_score(y_test, y_pred, pos_label='spam'), 4))\n",
    "print('F1 Score:', round(f1_score(y_test, y_pred, pos_label='spam'), 4))"
   ]
  },
  {
   "cell_type": "code",
   "execution_count": 6,
   "metadata": {},
   "outputs": [
    {
     "name": "stdout",
     "output_type": "stream",
     "text": [
      "Alerta: Este mensaje puede ser un fraude\n"
     ]
    }
   ],
   "source": [
    "# Generar recomendaciones si identifica un mensaje como spam\n",
    "def generar_alerta_spam(prediccion):\n",
    "    if prediccion == 'spam':\n",
    "        print('Alerta: Este mensaje puede ser un fraude')\n",
    "    else:\n",
    "        print('Este mensaje parece ser seguro')\n",
    "\n",
    "# Aplicar el sistema de alertas\n",
    "mensaje = 'You have won a free ticket to the Bahamas. Call now!'\n",
    "mensaje_transformado = vectorizer.transform([mensaje])\n",
    "prediccion = classifier.predict(mensaje_transformado)\n",
    "generar_alerta_spam(prediccion[0])"
   ]
  }
 ],
 "metadata": {
  "kernelspec": {
   "display_name": "Python 3",
   "language": "python",
   "name": "python3"
  },
  "language_info": {
   "codemirror_mode": {
    "name": "ipython",
    "version": 3
   },
   "file_extension": ".py",
   "mimetype": "text/x-python",
   "name": "python",
   "nbconvert_exporter": "python",
   "pygments_lexer": "ipython3",
   "version": "3.12.2"
  }
 },
 "nbformat": 4,
 "nbformat_minor": 2
}
